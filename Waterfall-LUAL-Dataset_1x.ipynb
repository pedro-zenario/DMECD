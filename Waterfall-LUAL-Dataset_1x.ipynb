version https://git-lfs.github.com/spec/v1
oid sha256:151aba4eb2fd1ecbca9aae9d84c1aee66c0646b52540af7aaa2bf318d63fa71f
size 75063
