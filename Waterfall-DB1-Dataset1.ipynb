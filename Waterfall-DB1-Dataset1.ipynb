version https://git-lfs.github.com/spec/v1
oid sha256:de4ce63705f40306b34afac6d1edbbd171c5daa9247636873bd201c24a353cbe
size 385779823
