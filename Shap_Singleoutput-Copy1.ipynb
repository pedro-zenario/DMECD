version https://git-lfs.github.com/spec/v1
oid sha256:c1f979d289c03a27c7f5758d0aa5a5a91c0f75accbc5d8036cbb16b58a399ea0
size 474407
