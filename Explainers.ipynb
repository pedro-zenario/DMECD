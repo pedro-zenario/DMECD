{
 "cells": [
  {
   "cell_type": "markdown",
   "id": "89b7e0aa",
   "metadata": {},
   "source": [
    "## Imports "
   ]
  },
  {
   "cell_type": "code",
   "execution_count": null,
   "id": "80c8dd6e",
   "metadata": {},
   "outputs": [],
   "source": [
    "import argparse\n",
    "import easydict\n",
    "import numpy as np\n",
    "import pandas as pd\n",
    "import tensorflow as tf\n",
    "from matplotlib import pyplot as plt\n",
    "from tensorflow.keras.models import load_model\n",
    "from plotread import *\n",
    "import shap\n",
    "from collections import Counter\n",
    "from alibi.explainers.pd_variance import PartialDependenceVariance, plot_pd_variance\n",
    "from alibi.explainers import PartialDependence, plot_pd\n",
    "from alibi.explainers import ALE\n",
    "from alibi.explainers.ale import plot_ale\n",
    "from alibi.explainers import PermutationImportance\n",
    "%matplotlib inline\n",
    "# Ignore warnings\n",
    "import warnings\n",
    "warnings.filterwarnings('ignore')\n",
    "# init the JS visualization code\n",
    "shap.initjs()"
   ]
  },
  {
   "cell_type": "code",
   "execution_count": null,
   "id": "c3e91c25",
   "metadata": {},
   "outputs": [],
   "source": [
    "# import tensorflow._api.v2.compat.v1 as tf                 # does not work for python=3.7\n",
    "from tensorflow.compat.v1.keras.backend import get_session\n",
    "tf.compat.v1.disable_v2_behavior()                          # does not work for thesis, except with DeepExplainer\n",
    "tf.compat.v1.disable_eager_execution()                    # does not work\n",
    "\n",
    "# from tensorflow.python.ops.numpy_ops import np_config     # does not work for python=3.7\n",
    "# np_config.enable_numpy_behavior()                         # does not work for python=3.7\n",
    "\n",
    "# from tensorflow.math import reduce_prod                 # does not work\n",
    "# from tensorflow.python.ops.math_ops import reduce_prod  # does not work\n",
    "\n",
    "# sess = tf.compat.v1.keras.backend.get_session()                   # does not work for thesis\n",
    "# sess.run(tf.compat.v1.global_variables_initializer())             # does not work for thesis\n",
    "# writer = tf.compat.v1.summary.FileWriter(\"c:\\\\tmp\", sess.graph)   # does not work for thesis\n",
    "# writer.close()     "
   ]
  },
  {
   "cell_type": "markdown",
   "id": "3a32d3ec",
   "metadata": {},
   "source": [
    "## Functions "
   ]
  },
  {
   "cell_type": "code",
   "execution_count": null,
   "id": "30be3ba5",
   "metadata": {},
   "outputs": [],
   "source": [
    "def custom_predictor(X):\n",
    "    print(\"X:\\n\")\n",
    "    print(X)\n",
    "    print(X.shape)\n",
    "    \n",
    "    predictions = model.predict(X)\n",
    "    print(\"predictions:\\n\")\n",
    "    print(predictions)\n",
    "    print(predictions.shape)\n",
    "    \n",
    "    predictions_reshaped = np.reshape(predictions, (1, 4000), order='F')\n",
    "    print(\"predictions_reshaped:\\n\")\n",
    "    print(predictions_reshaped)\n",
    "    print(predictions_reshaped.shape)\n",
    "\n",
    "    return predictions_reshaped"
   ]
  },
  {
   "cell_type": "code",
   "execution_count": null,
   "id": "4050ef6f",
   "metadata": {},
   "outputs": [],
   "source": [
    "def main():\n",
    "    ###########################################################################\n",
    "    # Parser Definition\n",
    "    ###########################################################################\n",
    "    opt = easydict.EasyDict({\n",
    "        \"model\": \"GRU\",\n",
    "        \"datapath\": \"Dataset1/\",\n",
    "        \"savepath\": \"Experiment1/GRU/8/Run1/\",\n",
    "        \"extension\": \".dat\",\n",
    "        \"batch_size\": 32,\n",
    "        \"plots_in\": False,\n",
    "        \"plots_out\": True\n",
    "    })\n",
    "\n",
    "    ###########################################################################\n",
    "    # Variables Definition\n",
    "    ###########################################################################\n",
    "    nin = ['time', 'PLML2', 'PLMR', 'AVBL', 'AVBR']\n",
    "    nout = ['time', 'DB1', 'LUAL', 'PVR', 'VB1']\n",
    "    neurons = ['time','DB1','LUAL','PVR','VB1','PLML2','PLMR','AVBL','AVBR']\n",
    "\n",
    "    ###########################################################################\n",
    "    # Read data\n",
    "    ###########################################################################\n",
    "    files = getdata(opt.datapath, opt.extension)\n",
    "    train, valid, test = splitdata(files)\n",
    "    trainx, trainy = readdata(opt.datapath, train, neurons, nin, nout)\n",
    "    validx, validy = readdata(opt.datapath, valid, neurons, nin, nout)\n",
    "    testx, testy = readdata(opt.datapath, test, neurons, nin, nout)\n",
    "    if opt.plots_in:\n",
    "        plotdata(trainx, '/train_data', '/x', opt.model, opt.savepath)\n",
    "        plotdata(trainy, '/train_data', '/y', opt.model, opt.savepath)\n",
    "        plotdata(validx, '/valid_data', '/x', opt.model, opt.savepath)\n",
    "        plotdata(validy, '/valid_data', '/y', opt.model, opt.savepath)\n",
    "        plotdata(testx, '/test_data', '/x', opt.model, opt.savepath)\n",
    "        plotdata(testy, '/test_data', '/y', opt.model, opt.savepath)\n",
    "        \n",
    "    ###########################################################################\n",
    "    # Load Model and Evaluate\n",
    "    ###########################################################################\n",
    "    output_size = 4\n",
    "    global model\n",
    "    model = load_model(opt.savepath + 'model.h5')\n",
    "    model.summary()\n",
    "\n",
    "    print(\"Starting to explain...\")\n",
    "    X_train = np.array(trainx)\n",
    "    X_test = np.array(testx)\n",
    "\n",
    "    nin_names = nin[1:len(nin)]\n",
    "\n",
    "    return X_train, X_test, nin_names"
   ]
  },
  {
   "cell_type": "markdown",
   "id": "8ba1711d",
   "metadata": {},
   "source": [
    "## Code "
   ]
  },
  {
   "cell_type": "code",
   "execution_count": null,
   "id": "850a6a3e",
   "metadata": {},
   "outputs": [],
   "source": [
    "X_train, X_test, nin_names = main()"
   ]
  },
  {
   "cell_type": "code",
   "execution_count": null,
   "id": "db6aeef1",
   "metadata": {},
   "outputs": [],
   "source": [
    "background = X_train[np.random.choice(X_train.shape[0], 1, replace=False)]\n",
    "print(\"background.shape=\")\n",
    "print(background.shape)"
   ]
  },
  {
   "cell_type": "code",
   "execution_count": null,
   "id": "4d001113",
   "metadata": {},
   "outputs": [],
   "source": [
    "train_x_reshaped = np.reshape(X_train, (20, 4000), order='F')\n",
    "print(\"train_x_reshaped.shape=\")\n",
    "print(train_x_reshaped.shape)"
   ]
  },
  {
   "cell_type": "code",
   "execution_count": null,
   "id": "e9fd84d7",
   "metadata": {},
   "outputs": [],
   "source": [
    "test_x_reshaped = np.reshape(X_test, (10, 4000), order='F')\n",
    "print(\"test_x_reshaped.shape=\")\n",
    "print(test_x_reshaped.shape)"
   ]
  },
  {
   "cell_type": "markdown",
   "id": "b0976638",
   "metadata": {},
   "source": [
    "#### Explainer"
   ]
  },
  {
   "cell_type": "markdown",
   "id": "ab8d2bfd",
   "metadata": {},
   "source": [
    "##### ALE"
   ]
  },
  {
   "cell_type": "code",
   "execution_count": null,
   "id": "31cb637d",
   "metadata": {},
   "outputs": [],
   "source": [
    "# ale = ALE(model.predict, feature_names=nin_names)\n",
    "ale = ALE(custom_predictor, feature_names=nin_names)"
   ]
  },
  {
   "cell_type": "code",
   "execution_count": null,
   "id": "093f2bff",
   "metadata": {
    "scrolled": false
   },
   "outputs": [],
   "source": [
    "# exp = ale.explain(X_test)\n",
    "exp = ale.explain(test_x_reshaped)"
   ]
  },
  {
   "cell_type": "markdown",
   "id": "5d0c8cc5",
   "metadata": {},
   "source": [
    "##### PD"
   ]
  },
  {
   "cell_type": "code",
   "execution_count": null,
   "id": "963e30b9",
   "metadata": {},
   "outputs": [],
   "source": [
    "# define explainer\n",
    "explainer = PartialDependenceVariance(predictor=model.predict,\n",
    "                                      feature_names=nin_names,\n",
    "                                      verbose=True)"
   ]
  },
  {
   "cell_type": "code",
   "execution_count": null,
   "id": "7453835f",
   "metadata": {},
   "outputs": [],
   "source": [
    "# define explainer\n",
    "explainer = PartialDependenceVariance(predictor=custom_predictor,\n",
    "                                      feature_names=nin_names,\n",
    "                                      verbose=True)"
   ]
  },
  {
   "cell_type": "code",
   "execution_count": null,
   "id": "4d94a678",
   "metadata": {
    "scrolled": false
   },
   "outputs": [],
   "source": [
    "exp_importance = explainer.explain(X=X_train[0],\n",
    "                                   method='interaction')"
   ]
  },
  {
   "cell_type": "markdown",
   "id": "61a94597",
   "metadata": {},
   "source": [
    "##### PD ICE"
   ]
  },
  {
   "cell_type": "code",
   "execution_count": null,
   "id": "67c4cc9e",
   "metadata": {},
   "outputs": [],
   "source": [
    "explainer = PartialDependence(predictor=custom_predictor,\n",
    "                              feature_names=nin_names)"
   ]
  },
  {
   "cell_type": "code",
   "execution_count": null,
   "id": "efcac628",
   "metadata": {},
   "outputs": [],
   "source": [
    "explainer = PartialDependence(predictor=model.predict,\n",
    "                              feature_names=nin_names)"
   ]
  },
  {
   "cell_type": "code",
   "execution_count": null,
   "id": "8d897ed4",
   "metadata": {},
   "outputs": [],
   "source": [
    "# select temperature, humidity, wind speed, and season\n",
    "features = [nin_names.index('PLML2'), \n",
    "            nin_names.index('PLMR'), \n",
    "            nin_names.index('AVBL'),\n",
    "            nin_names.index('AVBR')]"
   ]
  },
  {
   "cell_type": "code",
   "execution_count": null,
   "id": "7a9cc537",
   "metadata": {
    "scrolled": false
   },
   "outputs": [],
   "source": [
    "# compute explanations\n",
    "exp = explainer.explain(X=X_train[0],\n",
    "                        features=features,\n",
    "                        kind='average')"
   ]
  },
  {
   "cell_type": "code",
   "execution_count": null,
   "id": "25a6eab3",
   "metadata": {
    "scrolled": false
   },
   "outputs": [],
   "source": [
    "# compute explanations\n",
    "exp = explainer.explain(X=train_x_reshaped,\n",
    "                        features=features,\n",
    "                        kind='average')"
   ]
  },
  {
   "cell_type": "markdown",
   "id": "e12aea46",
   "metadata": {},
   "source": [
    "##### PDP"
   ]
  },
  {
   "cell_type": "code",
   "execution_count": null,
   "id": "a8cad5a4",
   "metadata": {
    "scrolled": true
   },
   "outputs": [],
   "source": [
    "shap.plots.partial_dependence(0, model.predict, background, feature_names=nin_names,\n",
    "                              ice=False, model_expected_value=True, feature_expected_value=True)"
   ]
  },
  {
   "cell_type": "code",
   "execution_count": null,
   "id": "a0d80bb4",
   "metadata": {
    "scrolled": true
   },
   "outputs": [],
   "source": [
    "shap.plots.partial_dependence(1, model.predict, background, feature_names=nin_names,\n",
    "                              ice=False, model_expected_value=True, feature_expected_value=True)"
   ]
  },
  {
   "cell_type": "code",
   "execution_count": null,
   "id": "8dfe68cd",
   "metadata": {
    "scrolled": true
   },
   "outputs": [],
   "source": [
    "shap.plots.partial_dependence(2, model.predict, background, feature_names=nin_names,\n",
    "                              ice=False, model_expected_value=True, feature_expected_value=True)"
   ]
  },
  {
   "cell_type": "code",
   "execution_count": null,
   "id": "cd2b2d08",
   "metadata": {
    "scrolled": true
   },
   "outputs": [],
   "source": [
    "shap.plots.partial_dependence(3, model.predict, background, feature_names=nin_names,\n",
    "                              ice=False, model_expected_value=True, feature_expected_value=True)"
   ]
  },
  {
   "cell_type": "code",
   "execution_count": null,
   "id": "2058f0fd",
   "metadata": {
    "scrolled": true
   },
   "outputs": [],
   "source": [
    "shap.plots.partial_dependence(999, model.predict, background, hist=True,\n",
    "                              ice=False, model_expected_value=True, feature_expected_value=True)"
   ]
  }
 ],
 "metadata": {
  "kernelspec": {
   "display_name": "lime_env",
   "language": "python",
   "name": "lime_env"
  },
  "language_info": {
   "codemirror_mode": {
    "name": "ipython",
    "version": 3
   },
   "file_extension": ".py",
   "mimetype": "text/x-python",
   "name": "python",
   "nbconvert_exporter": "python",
   "pygments_lexer": "ipython3",
   "version": "3.9.16"
  }
 },
 "nbformat": 4,
 "nbformat_minor": 5
}
