version https://git-lfs.github.com/spec/v1
oid sha256:45c15a6bd18e78c64a74216ad1bbb5812125ab52f58ca4be2264dfb1787a16a5
size 52582132
