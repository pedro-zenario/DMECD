version https://git-lfs.github.com/spec/v1
oid sha256:4ff776af55cf5a93372fed78fe1db8311d71469214f604b4f02932b9c1f2750e
size 17640960
