version https://git-lfs.github.com/spec/v1
oid sha256:58db533d27acf76add910d658ce00e9ecd8b172817bc6461b0bfe45fa8a92871
size 67808247
