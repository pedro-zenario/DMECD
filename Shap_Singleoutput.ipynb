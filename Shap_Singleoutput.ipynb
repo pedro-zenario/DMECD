{
 "cells": [
  {
   "cell_type": "markdown",
   "id": "89b7e0aa",
   "metadata": {},
   "source": [
    "## Imports "
   ]
  },
  {
   "cell_type": "code",
   "execution_count": null,
   "id": "80c8dd6e",
   "metadata": {},
   "outputs": [],
   "source": [
    "import argparse\n",
    "import easydict\n",
    "import numpy as np\n",
    "import pandas as pd\n",
    "import tensorflow as tf\n",
    "from tensorflow import keras\n",
    "from tensorflow.keras.models import load_model\n",
    "from matplotlib import pyplot as plt\n",
    "from plotread import *\n",
    "import shap\n",
    "import pickle\n",
    "from collections import Counter\n",
    "%matplotlib inline\n",
    "\n",
    "# Ignore warnings\n",
    "import warnings\n",
    "warnings.filterwarnings('ignore')\n",
    "\n",
    "# init the JS visualization code\n",
    "shap.initjs()"
   ]
  },
  {
   "cell_type": "code",
   "execution_count": null,
   "id": "c3e91c25",
   "metadata": {},
   "outputs": [],
   "source": [
    "import tensorflow._api.v2.compat.v1 as tf                 # does not work for python=3.7\n",
    "from tensorflow.compat.v1.keras.backend import get_session\n",
    "tf.compat.v1.disable_v2_behavior()                          # does not work for thesis, except with DeepExplainer\n",
    "tf.compat.v1.disable_eager_execution()                    # does not work\n",
    "\n",
    "from tensorflow.python.ops.numpy_ops import np_config     # does not work for python=3.7\n",
    "np_config.enable_numpy_behavior()                         # does not work for python=3.7"
   ]
  },
  {
   "cell_type": "markdown",
   "id": "3a32d3ec",
   "metadata": {},
   "source": [
    "## Functions "
   ]
  },
  {
   "cell_type": "code",
   "execution_count": null,
   "id": "6f7ce237",
   "metadata": {},
   "outputs": [],
   "source": [
    "def main():\n",
    "    ###########################################################################\n",
    "    # Parser Definition\n",
    "    ###########################################################################\n",
    "    opt = easydict.EasyDict({\n",
    "        \"model\": \"GRU\",\n",
    "        \"datapath\": \"Dataset1/\",\n",
    "        \"savepath\": \"Experiment1/GRU/8/Singleoutput/Runy/\",\n",
    "        \"extension\": \".dat\",\n",
    "        \"batch_size\": 32,\n",
    "        \"plots_in\": False,\n",
    "        \"plots_out\": True\n",
    "    })\n",
    "\n",
    "    ###########################################################################\n",
    "    # Variables Definition\n",
    "    ###########################################################################\n",
    "    nin = ['time', 'PLML2', 'PLMR', 'AVBL', 'AVBR']\n",
    "    nout = ['time', 'DB1', 'LUAL', 'PVR', 'VB1']\n",
    "    neurons = ['time','DB1','LUAL','PVR','VB1','PLML2','PLMR','AVBL','AVBR']\n",
    "\n",
    "    ###########################################################################\n",
    "    # Read data\n",
    "    ###########################################################################\n",
    "    files = getdata(opt.datapath, opt.extension)\n",
    "    train, valid, test = splitdata(files)\n",
    "    trainx, trainy = readdata(opt.datapath, train, neurons, nin, nout)\n",
    "    validx, validy = readdata(opt.datapath, valid, neurons, nin, nout)\n",
    "    testx, testy = readdata(opt.datapath, test, neurons, nin, nout)\n",
    "    if opt.plots_in:\n",
    "        plotdata(trainx, '/train_data', '/x', opt.model, opt.savepath)\n",
    "        plotdata(trainy, '/train_data', '/y', opt.model, opt.savepath)\n",
    "        plotdata(validx, '/valid_data', '/x', opt.model, opt.savepath)\n",
    "        plotdata(validy, '/valid_data', '/y', opt.model, opt.savepath)\n",
    "        plotdata(testx, '/test_data', '/x', opt.model, opt.savepath)\n",
    "        plotdata(testy, '/test_data', '/y', opt.model, opt.savepath)\n",
    "        \n",
    "    ###########################################################################\n",
    "    # Load Model and Evaluate\n",
    "    ###########################################################################\n",
    "    output_size = 1\n",
    "    global model\n",
    "    model = load_model(opt.savepath + 'model.h5')\n",
    "    model.summary()\n",
    "\n",
    "    print(\"Starting to explain...\")\n",
    "    X_train = np.array(trainx)\n",
    "    X_test = np.array(testx)\n",
    "\n",
    "    nin_names = nin[1:len(nin)]\n",
    "\n",
    "    return X_train, X_test, nin_names"
   ]
  },
  {
   "cell_type": "markdown",
   "id": "8ba1711d",
   "metadata": {},
   "source": [
    "## Code "
   ]
  },
  {
   "cell_type": "code",
   "execution_count": null,
   "id": "850a6a3e",
   "metadata": {},
   "outputs": [],
   "source": [
    "X_train, X_test, nin_names = main()"
   ]
  },
  {
   "cell_type": "code",
   "execution_count": null,
   "id": "39f7147f",
   "metadata": {},
   "outputs": [],
   "source": [
    "X_train.shape"
   ]
  },
  {
   "cell_type": "code",
   "execution_count": null,
   "id": "1e95370c",
   "metadata": {},
   "outputs": [],
   "source": [
    "X_test.shape"
   ]
  },
  {
   "cell_type": "code",
   "execution_count": null,
   "id": "db6aeef1",
   "metadata": {},
   "outputs": [],
   "source": [
    "background = X_train[np.random.choice(X_train.shape[0], 1, replace=False)]\n",
    "print(\"background.shape=\")\n",
    "print(background.shape)"
   ]
  },
  {
   "cell_type": "code",
   "execution_count": null,
   "id": "f0a973ee",
   "metadata": {},
   "outputs": [],
   "source": [
    "background"
   ]
  },
  {
   "cell_type": "code",
   "execution_count": null,
   "id": "944ada63",
   "metadata": {},
   "outputs": [],
   "source": [
    "for layer in model.layers:\n",
    "    print(\"LAYER\")\n",
    "    print(layer.name, layer.inbound_nodes, layer.outbound_nodes)\n",
    "    print(layer.input_shape)\n",
    "    print(layer.output_shape) "
   ]
  },
  {
   "cell_type": "code",
   "execution_count": null,
   "id": "191830f0",
   "metadata": {},
   "outputs": [],
   "source": [
    "X_test[:1,:,:]"
   ]
  },
  {
   "cell_type": "markdown",
   "id": "a0eaa7cf",
   "metadata": {},
   "source": [
    "### explainers"
   ]
  },
  {
   "cell_type": "code",
   "execution_count": null,
   "id": "ce5ba45d",
   "metadata": {},
   "outputs": [],
   "source": [
    "# explainer1 = shap.DeepExplainer(model, X_train)\n",
    "# explainer2 = shap.DeepExplainer(model, background)\n",
    "\n",
    "explainer3 = shap.DeepExplainer((model.layers[0].input, model.layers[-1].output), X_train)\n",
    "explainer4 = shap.DeepExplainer((model.layers[0].input, model.layers[-1].output), background)\n",
    "\n",
    "# explainer5 = shap.GradientExplainer(model, X_train)\n",
    "# explainer6 = shap.GradientExplainer(model, background)\n",
    "\n",
    "# explainer7 = shap.GradientExplainer((model.layers[0].input, model.layers[-1].output), X_train)\n",
    "# explainer8 = shap.GradientExplainer((model.layers[0].input, model.layers[-1].output), background)"
   ]
  },
  {
   "cell_type": "markdown",
   "id": "83ce9662",
   "metadata": {},
   "source": [
    "### shap_values"
   ]
  },
  {
   "cell_type": "markdown",
   "id": "089bee55",
   "metadata": {},
   "source": [
    "#### Loading the shap_values from pickle files"
   ]
  },
  {
   "cell_type": "code",
   "execution_count": null,
   "id": "922f0ac0",
   "metadata": {},
   "outputs": [],
   "source": [
    "# with open(\"D:\\Pedro\\IST\\ANO 2\\SEM 2\\Tese\\gmestre\\ICLR-RNN-CElegans\\Experiment1\\GRU\\8\\Singleoutput\\Runy\\pickles\\shap_values1_explainer4.pkl\", 'rb') as file:\n",
    "#     shap_values1_explainer4 = pickle.load(file)"
   ]
  },
  {
   "cell_type": "code",
   "execution_count": null,
   "id": "3f9a42c5",
   "metadata": {},
   "outputs": [],
   "source": [
    "# list_of_shap_values = []\n",
    "\n",
    "# for i in range(1, 9):\n",
    "#     for j in range(1, 3):\n",
    "#         with open(\"D:\\Pedro\\IST\\ANO 2\\SEM 2\\Tese\\gmestre\\ICLR-RNN-CElegans\\Experiment1\\GRU\\8\\Singleoutput\\Runy\\pickles\\shap_values{}_explainer{}.pkl\".format(j, i), 'rb') as file:\n",
    "#             shap_value = pickle.load(file)\n",
    "#             list_of_shap_values.append(shap_value)"
   ]
  },
  {
   "cell_type": "code",
   "execution_count": null,
   "id": "4be9aaf1",
   "metadata": {},
   "outputs": [],
   "source": [
    "# shap_values1_explainer1 = list_of_shap_values[0]\n",
    "# shap_values2_explainer1 = list_of_shap_values[1]\n",
    "# shap_values1_explainer2 = list_of_shap_values[2]\n",
    "# shap_values2_explainer2 = list_of_shap_values[3]\n",
    "# shap_values1_explainer3 = list_of_shap_values[4]\n",
    "# shap_values2_explainer3 = list_of_shap_values[5]\n",
    "# shap_values1_explainer4 = list_of_shap_values[6]\n",
    "# shap_values2_explainer4 = list_of_shap_values[7]\n",
    "# shap_values1_explainer5 = list_of_shap_values[8]\n",
    "# shap_values2_explainer5 = list_of_shap_values[9]\n",
    "# shap_values1_explainer6 = list_of_shap_values[10]\n",
    "# shap_values2_explainer6 = list_of_shap_values[11]\n",
    "# shap_values1_explainer7 = list_of_shap_values[12]\n",
    "# shap_values2_explainer7 = list_of_shap_values[13]\n",
    "# shap_values1_explainer8 = list_of_shap_values[14]\n",
    "# shap_values2_explainer8 = list_of_shap_values[15]"
   ]
  },
  {
   "cell_type": "code",
   "execution_count": null,
   "id": "a6e64b2d",
   "metadata": {},
   "outputs": [],
   "source": [
    "list_of_shap_values = []\n",
    "\n",
    "for i in range(3, 5):\n",
    "    for j in range(1, 3):\n",
    "        with open(\"D:\\Pedro\\IST\\ANO 2\\SEM 2\\Tese\\gmestre\\ICLR-RNN-CElegans\\Experiment1\\GRU\\8\\Singleoutput\\Runy\\pickles\\shap_values{}_explainer{}.pkl\".format(j, i), 'rb') as file:\n",
    "            shap_value = pickle.load(file)\n",
    "            list_of_shap_values.append(shap_value)"
   ]
  },
  {
   "cell_type": "code",
   "execution_count": null,
   "id": "7e07f4a3",
   "metadata": {},
   "outputs": [],
   "source": [
    "shap_values1_explainer3 = list_of_shap_values[0]\n",
    "shap_values2_explainer3 = list_of_shap_values[1]\n",
    "shap_values1_explainer4 = list_of_shap_values[2]\n",
    "shap_values2_explainer4 = list_of_shap_values[3]"
   ]
  },
  {
   "cell_type": "markdown",
   "id": "44932ca0",
   "metadata": {},
   "source": [
    "#### Calculating shap_values\n",
    "Below we have used explainer to generate shape values for the test dataset using the shap_values() method of explainer. The explainer object has a base value to which it adds shape values for a particular sample in order to generate a final prediction. The base value is stored in the expected_value attribute of the explainer object. All model predictions will be generated by adding shap values generated for a particular sample to this expected value."
   ]
  },
  {
   "cell_type": "code",
   "execution_count": null,
   "id": "39bbade8",
   "metadata": {},
   "outputs": [],
   "source": [
    "# shap_values1_explainer1 = explainer1.shap_values(X_test[:1,:,:])"
   ]
  },
  {
   "cell_type": "code",
   "execution_count": null,
   "id": "6c8cf57b",
   "metadata": {},
   "outputs": [],
   "source": [
    "# shap_values2_explainer1 = explainer1.shap_values(X_test)"
   ]
  },
  {
   "cell_type": "code",
   "execution_count": null,
   "id": "8c2d82cf",
   "metadata": {},
   "outputs": [],
   "source": [
    "# shap_values1_explainer2 = explainer2.shap_values(X_test[:1,:,:])"
   ]
  },
  {
   "cell_type": "code",
   "execution_count": null,
   "id": "e59a3575",
   "metadata": {},
   "outputs": [],
   "source": [
    "# shap_values2_explainer2 = explainer2.shap_values(X_test)"
   ]
  },
  {
   "cell_type": "code",
   "execution_count": null,
   "id": "46f3e5fe",
   "metadata": {},
   "outputs": [],
   "source": [
    "# shap_values1_explainer3 = explainer3.shap_values(X_test[:1,:,:])"
   ]
  },
  {
   "cell_type": "code",
   "execution_count": null,
   "id": "a4e1c9a3",
   "metadata": {},
   "outputs": [],
   "source": [
    "# shap_values2_explainer3 = explainer3.shap_values(X_test)"
   ]
  },
  {
   "cell_type": "code",
   "execution_count": null,
   "id": "7b5e5a4a",
   "metadata": {},
   "outputs": [],
   "source": [
    "# shap_values1_explainer4 = explainer4.shap_values(X_test[:1,:,:])"
   ]
  },
  {
   "cell_type": "code",
   "execution_count": null,
   "id": "c1e9003b",
   "metadata": {},
   "outputs": [],
   "source": [
    "# shap_values2_explainer4 = explainer4.shap_values(X_test)"
   ]
  },
  {
   "cell_type": "code",
   "execution_count": null,
   "id": "e8547280",
   "metadata": {},
   "outputs": [],
   "source": [
    "# shap_values1_explainer5 = explainer5.shap_values(X_test[:1,:,:])"
   ]
  },
  {
   "cell_type": "code",
   "execution_count": null,
   "id": "601cea0e",
   "metadata": {},
   "outputs": [],
   "source": [
    "# shap_values2_explainer5 = explainer5.shap_values(X_test)"
   ]
  },
  {
   "cell_type": "code",
   "execution_count": null,
   "id": "b2eed167",
   "metadata": {},
   "outputs": [],
   "source": [
    "# shap_values1_explainer6 = explainer6.shap_values(X_test[:1,:,:])"
   ]
  },
  {
   "cell_type": "code",
   "execution_count": null,
   "id": "45d28326",
   "metadata": {},
   "outputs": [],
   "source": [
    "# shap_values2_explainer6 = explainer6.shap_values(X_test)"
   ]
  },
  {
   "cell_type": "code",
   "execution_count": null,
   "id": "33d23c23",
   "metadata": {},
   "outputs": [],
   "source": [
    "# shap_values1_explainer7 = explainer7.shap_values(X_test[:1,:,:])"
   ]
  },
  {
   "cell_type": "code",
   "execution_count": null,
   "id": "332890aa",
   "metadata": {},
   "outputs": [],
   "source": [
    "# shap_values2_explainer7 = explainer7.shap_values(X_test)"
   ]
  },
  {
   "cell_type": "code",
   "execution_count": null,
   "id": "ee1011d8",
   "metadata": {},
   "outputs": [],
   "source": [
    "# shap_values1_explainer8 = explainer8.shap_values(X_test[:1,:,:])"
   ]
  },
  {
   "cell_type": "code",
   "execution_count": null,
   "id": "2cc181bc",
   "metadata": {},
   "outputs": [],
   "source": [
    "# shap_values2_explainer8 = explainer8.shap_values(X_test)"
   ]
  },
  {
   "cell_type": "markdown",
   "id": "7302d18a",
   "metadata": {},
   "source": [
    "#### Creating pickle files to save the shap_values"
   ]
  },
  {
   "cell_type": "code",
   "execution_count": null,
   "id": "48769bc5",
   "metadata": {},
   "outputs": [],
   "source": [
    "# with open(\"D:\\Pedro\\IST\\ANO 2\\SEM 2\\Tese\\gmestre\\ICLR-RNN-CElegans\\Experiment1\\GRU\\8\\Singleoutput\\Runy\\pickles\\shap_values1_explainer4.pkl\", 'wb') as file:\n",
    "#     pickle.dump(shap_values1_explainer4, file)"
   ]
  },
  {
   "cell_type": "code",
   "execution_count": null,
   "id": "53486903",
   "metadata": {},
   "outputs": [],
   "source": [
    "# for i in range(3, 5):\n",
    "#     for j in range(1, 3):\n",
    "#         with open(\"D:\\Pedro\\IST\\ANO 2\\SEM 2\\Tese\\gmestre\\ICLR-RNN-CElegans\\Experiment1\\GRU\\8\\Singleoutput\\Runy\\pickles\\shap_values{}_explainer{}.pkl\".format(j, i), 'wb') as file:\n",
    "#             pickle.dump(eval(\"shap_values{}_explainer{}\".format(j, i)), file)"
   ]
  },
  {
   "cell_type": "code",
   "execution_count": null,
   "id": "029f7fa5",
   "metadata": {},
   "outputs": [],
   "source": [
    "# for i in range(1, 9):\n",
    "#     for j in range(1, 3):\n",
    "#         with open(\"D:\\Pedro\\IST\\ANO 2\\SEM 2\\Tese\\gmestre\\ICLR-RNN-CElegans\\Experiment1\\GRU\\8\\Singleoutput\\Runy\\pickles\\shap_values{}_explainer{}.pkl\".format(j, i), 'wb') as file:\n",
    "#             pickle.dump(eval(\"shap_values{}_explainer{}\".format(j, i)), file)"
   ]
  },
  {
   "cell_type": "markdown",
   "id": "5b40ec6c",
   "metadata": {},
   "source": [
    "#### Print shap_values"
   ]
  },
  {
   "cell_type": "code",
   "execution_count": null,
   "id": "60df7c1c",
   "metadata": {},
   "outputs": [],
   "source": [
    "# print(shap_values1_explainer1)\n",
    "# print(shap_values2_explainer1)"
   ]
  },
  {
   "cell_type": "code",
   "execution_count": null,
   "id": "2bcd3878",
   "metadata": {},
   "outputs": [],
   "source": [
    "# print(shap_values1_explainer2)\n",
    "# print(shap_values2_explainer2)"
   ]
  },
  {
   "cell_type": "code",
   "execution_count": null,
   "id": "7c10c948",
   "metadata": {},
   "outputs": [],
   "source": [
    "print(shap_values1_explainer3)\n",
    "print(shap_values2_explainer3)"
   ]
  },
  {
   "cell_type": "code",
   "execution_count": null,
   "id": "9991054a",
   "metadata": {},
   "outputs": [],
   "source": [
    "print(shap_values1_explainer4)\n",
    "print(shap_values2_explainer4)"
   ]
  },
  {
   "cell_type": "code",
   "execution_count": null,
   "id": "7f8315ed",
   "metadata": {},
   "outputs": [],
   "source": [
    "# print(shap_values1_explainer5)\n",
    "# print(shap_values2_explainer5)"
   ]
  },
  {
   "cell_type": "code",
   "execution_count": null,
   "id": "a12d55e8",
   "metadata": {},
   "outputs": [],
   "source": [
    "# print(shap_values1_explainer6)\n",
    "# print(shap_values2_explainer6)"
   ]
  },
  {
   "cell_type": "code",
   "execution_count": null,
   "id": "1a6583fe",
   "metadata": {},
   "outputs": [],
   "source": [
    "# print(shap_values1_explainer7)\n",
    "# print(shap_values2_explainer7)"
   ]
  },
  {
   "cell_type": "code",
   "execution_count": null,
   "id": "34c618c0",
   "metadata": {},
   "outputs": [],
   "source": [
    "# print(shap_values1_explainer8)\n",
    "# print(shap_values2_explainer8)"
   ]
  },
  {
   "cell_type": "code",
   "execution_count": null,
   "id": "ee6890aa",
   "metadata": {},
   "outputs": [],
   "source": [
    "# print(np.array(shap_values1_explainer1).shape)\n",
    "# print(np.array(shap_values2_explainer1).shape)\n",
    "\n",
    "# print(np.array(shap_values1_explainer2).shape)\n",
    "# print(np.array(shap_values2_explainer2).shape)\n",
    "\n",
    "print(np.array(shap_values1_explainer3).shape)\n",
    "print(np.array(shap_values2_explainer3).shape)\n",
    "\n",
    "print(np.array(shap_values1_explainer4).shape)\n",
    "print(np.array(shap_values2_explainer4).shape)\n",
    "\n",
    "# print(np.array(shap_values1_explainer5).shape)\n",
    "# print(np.array(shap_values2_explainer5).shape)\n",
    "\n",
    "# print(np.array(shap_values1_explainer6).shape)\n",
    "# print(np.array(shap_values2_explainer6).shape)\n",
    "\n",
    "# print(np.array(shap_values1_explainer7).shape)\n",
    "# print(np.array(shap_values2_explainer7).shape)\n",
    "\n",
    "# print(np.array(shap_values1_explainer8).shape)\n",
    "# print(np.array(shap_values2_explainer8).shape)"
   ]
  },
  {
   "cell_type": "code",
   "execution_count": null,
   "id": "1b5aad3c",
   "metadata": {},
   "outputs": [],
   "source": [
    "shap_values1_explainer3_reshaped = np.reshape(np.array(shap_values1_explainer3), (1000, 1000, 4))"
   ]
  },
  {
   "cell_type": "code",
   "execution_count": null,
   "id": "22fd7970",
   "metadata": {},
   "outputs": [],
   "source": [
    "shap_values1_explainer3_reshaped.shape"
   ]
  },
  {
   "cell_type": "code",
   "execution_count": null,
   "id": "885824ea",
   "metadata": {},
   "outputs": [],
   "source": [
    "shap_values1_explainer4_reshaped = np.reshape(np.array(shap_values1_explainer4), (1000, 1000, 4))"
   ]
  },
  {
   "cell_type": "code",
   "execution_count": null,
   "id": "106fa930",
   "metadata": {},
   "outputs": [],
   "source": [
    "shap_values1_explainer4_reshaped.shape"
   ]
  },
  {
   "cell_type": "markdown",
   "id": "2e5c5f33",
   "metadata": {},
   "source": [
    "### expected_values"
   ]
  },
  {
   "cell_type": "code",
   "execution_count": null,
   "id": "55c10954",
   "metadata": {},
   "outputs": [],
   "source": [
    "# print(explainer1.expected_value)\n",
    "# print(explainer2.expected_value)\n",
    "print(explainer3.expected_value)\n",
    "print(explainer4.expected_value)"
   ]
  },
  {
   "cell_type": "code",
   "execution_count": null,
   "id": "f41ae5e9",
   "metadata": {},
   "outputs": [],
   "source": [
    "# print(explainer1.expected_value.shape)\n",
    "# print(explainer2.expected_value.shape)\n",
    "print(explainer3.expected_value.shape)\n",
    "print(explainer4.expected_value.shape)"
   ]
  },
  {
   "cell_type": "markdown",
   "id": "51c17008",
   "metadata": {},
   "source": [
    "## Visualizations"
   ]
  },
  {
   "cell_type": "markdown",
   "id": "66602190",
   "metadata": {},
   "source": [
    "### dependence_plots"
   ]
  },
  {
   "cell_type": "code",
   "execution_count": null,
   "id": "39af8242",
   "metadata": {},
   "outputs": [],
   "source": [
    "# code for X_test[:1,:,:]\n",
    "shap.dependence_plot(\n",
    "            ind=0,\n",
    "            shap_values=shap_values1_explainer4_reshaped[0],\n",
    "            features=X_test[:1,:,:][0],\n",
    "            feature_names=nin_names,\n",
    "            interaction_index=1)"
   ]
  },
  {
   "cell_type": "code",
   "execution_count": null,
   "id": "5c8b7bd6",
   "metadata": {},
   "outputs": [],
   "source": [
    "# code for X_test[:1,:,:]\n",
    "shap.dependence_plot(\n",
    "            ind=1,\n",
    "            shap_values=shap_values1_explainer4_reshaped[0],\n",
    "            features=X_test[:1,:,:][0],\n",
    "            feature_names=nin_names,\n",
    "            interaction_index=3)"
   ]
  },
  {
   "cell_type": "code",
   "execution_count": null,
   "id": "2a35d4db",
   "metadata": {},
   "outputs": [],
   "source": [
    "# code for X_test[:1,:,:]\n",
    "for i in range(shap_values1_explainer4_reshaped.shape[0]):\n",
    "    for j in range(len(nin_names)):\n",
    "        print(i)\n",
    "        print(j)\n",
    "        shap.dependence_plot(\n",
    "                ind=j,\n",
    "                shap_values=shap_values1_explainer4_reshaped[i],\n",
    "                features=X_test[0],\n",
    "                feature_names=nin_names)"
   ]
  },
  {
   "cell_type": "code",
   "execution_count": null,
   "id": "bb966755",
   "metadata": {},
   "outputs": [],
   "source": [
    "# shap.dependence_plot(\n",
    "#             ind=0,\n",
    "#             shap_values=shap_values1_explainer4[0][0],\n",
    "#             features=X_test[:1,:,:][0],\n",
    "#             feature_names=nin_names,\n",
    "#             interaction_index=1)"
   ]
  },
  {
   "cell_type": "code",
   "execution_count": null,
   "id": "3d371368",
   "metadata": {},
   "outputs": [],
   "source": [
    "# shap.dependence_plot(\n",
    "#             ind=1,\n",
    "#             shap_values=shap_values1_explainer4[0][0],\n",
    "#             features=X_test[:1,:,:][0],\n",
    "#             feature_names=nin_names,\n",
    "#             interaction_index=3)"
   ]
  },
  {
   "cell_type": "code",
   "execution_count": null,
   "id": "9a0e455b",
   "metadata": {},
   "outputs": [],
   "source": [
    "# for i in range(shap_values1_explainer4.shape[0]):\n",
    "#     for j in range(len(nin_names)):\n",
    "#         shap.dependence_plot(\n",
    "#                 ind=j,\n",
    "#                 shap_values=shap_values1_explainer4[i][0],\n",
    "#                 features=X_test[0],\n",
    "#                 feature_names=nin_names)"
   ]
  },
  {
   "cell_type": "markdown",
   "id": "64976405",
   "metadata": {},
   "source": [
    "#### Ensure the sum of Shapley values matches the difference between predicted value and expected value: For each instance in your dataset, the sum of the Shapley values across all features should add up to the difference between the model's predicted value for that instance and the expected value."
   ]
  },
  {
   "cell_type": "code",
   "execution_count": null,
   "id": "1b5a787a",
   "metadata": {},
   "outputs": [],
   "source": [
    "np.array(shap_values1_explainer3).shape"
   ]
  },
  {
   "cell_type": "code",
   "execution_count": null,
   "id": "95e2d4b7",
   "metadata": {},
   "outputs": [],
   "source": [
    "explainer3.expected_value.shape"
   ]
  },
  {
   "cell_type": "code",
   "execution_count": null,
   "id": "8bc34377",
   "metadata": {},
   "outputs": [],
   "source": [
    "np.array(shap_values1_explainer4).shape"
   ]
  },
  {
   "cell_type": "code",
   "execution_count": null,
   "id": "8e83eff9",
   "metadata": {},
   "outputs": [],
   "source": [
    "explainer4.expected_value.shape"
   ]
  },
  {
   "cell_type": "code",
   "execution_count": null,
   "id": "f6cce194",
   "metadata": {},
   "outputs": [],
   "source": [
    "predicted_values_1 = model.predict(X_test[:1,:,:])\n",
    "predicted_values_1.shape"
   ]
  },
  {
   "cell_type": "code",
   "execution_count": null,
   "id": "e282861b",
   "metadata": {},
   "outputs": [],
   "source": [
    "predicted_values_10 = model.predict(X_test)\n",
    "predicted_values_10.shape"
   ]
  },
  {
   "cell_type": "code",
   "execution_count": null,
   "id": "705b181e",
   "metadata": {},
   "outputs": [],
   "source": [
    "for i in range(len(X_test[:1,:,:])):\n",
    "    for j in range(predicted_values_1.shape[1]):\n",
    "        shap_sum = np.sum(shap_values1_explainer3[j][i])\n",
    "        pred_diff = predicted_values_1[i, j] - explainer3.expected_value[j]\n",
    "        print(f\"Instance {i+1}, Output {j+1}: Shapley sum = \\t{shap_sum}, \\n\\tPredicted difference = \\t\\t{pred_diff}\")"
   ]
  },
  {
   "cell_type": "code",
   "execution_count": null,
   "id": "bfee0dae",
   "metadata": {},
   "outputs": [],
   "source": [
    "for i in range(len(X_test)):\n",
    "    for j in range(predicted_values_10.shape[1]):\n",
    "        shap_sum = np.sum(shap_values2_explainer3[j][i])\n",
    "        pred_diff = predicted_values_10[i, j] - explainer3.expected_value[j]\n",
    "        print(f\"Instance {i+1}, Output {j+1}: Shapley sum = \\t{shap_sum}, \\n\\tPredicted difference = \\t\\t{pred_diff}\")"
   ]
  },
  {
   "cell_type": "code",
   "execution_count": null,
   "id": "5fb4edb8",
   "metadata": {},
   "outputs": [],
   "source": [
    "for i in range(len(X_test[:1,:,:])):\n",
    "    for j in range(predicted_values_1.shape[1]):\n",
    "        shap_sum = np.sum(shap_values1_explainer4[j][i])\n",
    "        pred_diff = predicted_values_1[i, j] - explainer4.expected_value[j]\n",
    "        print(f\"Instance {i+1}, Output {j+1}: Shapley sum = \\t{shap_sum}, \\n\\tPredicted difference = \\t\\t{pred_diff}\")"
   ]
  },
  {
   "cell_type": "code",
   "execution_count": null,
   "id": "2f1ea101",
   "metadata": {},
   "outputs": [],
   "source": [
    "for i in range(len(X_test)):\n",
    "    for j in range(predicted_values_10.shape[1]):\n",
    "        shap_sum = np.sum(shap_values2_explainer4[j][i])\n",
    "        pred_diff = predicted_values_10[i, j] - explainer4.expected_value[j]\n",
    "        print(f\"Instance {i+1}, Output {j+1}: Shapley sum = \\t{shap_sum}, \\n\\tPredicted difference = \\t\\t{pred_diff}\")"
   ]
  },
  {
   "cell_type": "code",
   "execution_count": null,
   "id": "dcb229dc",
   "metadata": {},
   "outputs": [],
   "source": [
    "def verify_shap_values(shap_values, expected_values, predicted_values):\n",
    "    \"\"\"\n",
    "    Verify the correctness of SHAP values.\n",
    "\n",
    "    Args:\n",
    "        shap_values (numpy.ndarray): Array of SHAP values with shape (n_instances, 1, n_features, n_classes).\n",
    "        expected_values (numpy.ndarray): Array of expected values with shape (n_instances,).\n",
    "        predicted_values (numpy.ndarray): Array of predicted values with shape (1, n_instances).\n",
    "\n",
    "    Returns:\n",
    "        bool: True if the SHAP values are correctly calculated, False otherwise.\n",
    "    \"\"\"\n",
    "    \n",
    "    # Step 1: Verify shapes\n",
    "    n_instances, _, n_features, n_classes = shap_values.shape\n",
    "    _, n_instances_predicted = predicted_values.shape\n",
    "\n",
    "    if n_instances != n_instances_predicted:\n",
    "        print(\"Error: Number of instances in shap_values and predicted_values do not match.\")\n",
    "        return False\n",
    "\n",
    "    # Step 2: Check the sum property\n",
    "    for i in range(n_instances):\n",
    "        sum_shap_values = np.sum(shap_values[i, 0, :, :])\n",
    "        diff_predicted_expected = predicted_values[0, i] - expected_values[i]\n",
    "        \n",
    "        print(sum_shap_values)\n",
    "        print(diff_predicted_expected)\n",
    "\n",
    "        if not np.isclose(sum_shap_values, diff_predicted_expected):\n",
    "            print(f\"Error: Sum of SHAP values for instance {i} does not match the difference between predicted and expected values.\")\n",
    "            return False\n",
    "\n",
    "    return True"
   ]
  },
  {
   "cell_type": "code",
   "execution_count": null,
   "id": "afc6d691",
   "metadata": {},
   "outputs": [],
   "source": [
    "verify_shap_values(np.array(shap_values1_explainer3), explainer3.expected_value, predicted_values_1)"
   ]
  },
  {
   "cell_type": "code",
   "execution_count": null,
   "id": "b4548e75",
   "metadata": {},
   "outputs": [],
   "source": [
    "verify_shap_values(np.array(shap_values2_explainer3), explainer3.expected_value, predicted_values_10)"
   ]
  },
  {
   "cell_type": "code",
   "execution_count": null,
   "id": "3e5956fd",
   "metadata": {},
   "outputs": [],
   "source": [
    "verify_shap_values(np.array(shap_values1_explainer4), explainer4.expected_value, predicted_values_1)"
   ]
  },
  {
   "cell_type": "code",
   "execution_count": null,
   "id": "0c9d944f",
   "metadata": {},
   "outputs": [],
   "source": [
    "verify_shap_values(np.array(shap_values2_explainer4), explainer4.expected_value, predicted_values_10)"
   ]
  },
  {
   "cell_type": "code",
   "execution_count": null,
   "id": "9accb096",
   "metadata": {},
   "outputs": [],
   "source": []
  }
 ],
 "metadata": {
  "kernelspec": {
   "display_name": "celegans",
   "language": "python",
   "name": "celegans"
  },
  "language_info": {
   "codemirror_mode": {
    "name": "ipython",
    "version": 3
   },
   "file_extension": ".py",
   "mimetype": "text/x-python",
   "name": "python",
   "nbconvert_exporter": "python",
   "pygments_lexer": "ipython3",
   "version": "3.9.16"
  }
 },
 "nbformat": 4,
 "nbformat_minor": 5
}
