version https://git-lfs.github.com/spec/v1
oid sha256:db02fda301d899ca21e6cc713dd8c4b4a6e0a0a24f2d35eaeefa350a132f5c42
size 523526287
