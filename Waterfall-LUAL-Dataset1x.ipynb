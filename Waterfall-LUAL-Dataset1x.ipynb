version https://git-lfs.github.com/spec/v1
oid sha256:4e3e5c443f3c3155502ecf0a5a2b21b010ede5d73e70c4cafe155f2712c26ba8
size 272683737
