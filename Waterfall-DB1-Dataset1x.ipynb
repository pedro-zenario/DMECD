version https://git-lfs.github.com/spec/v1
oid sha256:c8bf020793e9f659f5fd1ec48b14f34c3030b3df291022357dee5d4caad11682
size 272310688
